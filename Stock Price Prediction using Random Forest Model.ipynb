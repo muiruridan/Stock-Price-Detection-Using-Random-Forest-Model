{
 "cells": [
  {
   "cell_type": "code",
   "execution_count": 1,
   "id": "b9b3fa07",
   "metadata": {},
   "outputs": [],
   "source": [
    "# Importing the necessary libraries.\n",
    "from sklearn.ensemble import RandomForestRegressor\n",
    "from sklearn.model_selection import train_test_split\n",
    "import numpy as np\n",
    "import pandas as pd\n",
    "import requests"
   ]
  },
  {
   "cell_type": "code",
   "execution_count": 2,
   "id": "d82ee2a5",
   "metadata": {},
   "outputs": [],
   "source": [
    "# Using an API to fetch the data from EODHD's financial data.\n",
    "def get_stock_data(symbol, start_date, end_date, api_key):\n",
    "    url = f\"https://eodhistoricaldata.com/api/eod/{symbol}\"\n",
    "    params = {\n",
    "        \"from\": start_date,\n",
    "        \"to\": end_date,\n",
    "        \"api_token\": api_key,\n",
    "        \"fmt\": \"json\"\n",
    "    }\n",
    "    response = requests.get(url, params)\n",
    "    if response.status_code == 200:\n",
    "        data = pd.DataFrame(response.json())\n",
    "        data['date'] = pd.to_datetime(data['date'])\n",
    "        return data.set_index('date')\n",
    "    else:\n",
    "        raise Exception(f\"APIS request failed with status code {response.status_code}\")\n",
    "        \n"
   ]
  },
  {
   "cell_type": "code",
   "execution_count": 3,
   "id": "3c50aa03",
   "metadata": {},
   "outputs": [],
   "source": [
    "# Preparing the data\n",
    "def prepare_data(df, look_back=30):\n",
    "    X, y = [], []\n",
    "    for i in range(len(df) - look_back):\n",
    "        X.append(df.iloc[i:i+look_back]['close'].values)\n",
    "        y.append(df.iloc[i+look_back]['close'])\n",
    "    return np.array(X), np.array(y)"
   ]
  },
  {
   "cell_type": "code",
   "execution_count": 4,
   "id": "c1d14760",
   "metadata": {},
   "outputs": [
    {
     "name": "stdout",
     "output_type": "stream",
     "text": [
      "              open    high     low   close  adjusted_close    volume\n",
      "date                                                                \n",
      "2024-01-02  187.15  188.44  183.89  185.64        184.0815  82488700\n",
      "2024-01-03  184.22  185.88  183.43  184.25        182.7032  58414500\n",
      "2024-01-04  182.15  183.09  180.88  181.91        180.3828  71983600\n",
      "2024-01-05  181.99  182.76  180.17  181.18        179.6589  62379700\n",
      "2024-01-08  182.09  185.60  181.50  185.56        184.0022  59144500\n"
     ]
    }
   ],
   "source": [
    "# Loading the data\n",
    "api_key = \"demo\"\n",
    "apple_data = get_stock_data(\"AAPL\", \"2024-01-01\", \"2024-09-31\", api_key)\n",
    "print(apple_data.head())"
   ]
  },
  {
   "cell_type": "code",
   "execution_count": 5,
   "id": "7489b1ce",
   "metadata": {},
   "outputs": [
    {
     "name": "stdout",
     "output_type": "stream",
     "text": [
      "Model Score: 0.9737878392536558\n"
     ]
    }
   ],
   "source": [
    "# Breaking the data into training and testing data.\n",
    "X, y = prepare_data(apple_data)\n",
    "X_train, X_test, y_train, y_test = train_test_split(X, y, test_size=0.2, random_state=42)\n",
    "\n",
    "model = RandomForestRegressor(n_estimators=100, random_state=42)\n",
    "model.fit(X_train, y_train)\n",
    "\n",
    "print(f\"Model Score: {model.score(X_test, y_test)}\")"
   ]
  },
  {
   "cell_type": "code",
   "execution_count": null,
   "id": "1d2bc3dc",
   "metadata": {},
   "outputs": [],
   "source": []
  },
  {
   "cell_type": "code",
   "execution_count": null,
   "id": "f4b87015",
   "metadata": {},
   "outputs": [],
   "source": []
  }
 ],
 "metadata": {
  "kernelspec": {
   "display_name": "Python 3 (ipykernel)",
   "language": "python",
   "name": "python3"
  },
  "language_info": {
   "codemirror_mode": {
    "name": "ipython",
    "version": 3
   },
   "file_extension": ".py",
   "mimetype": "text/x-python",
   "name": "python",
   "nbconvert_exporter": "python",
   "pygments_lexer": "ipython3",
   "version": "3.11.5"
  }
 },
 "nbformat": 4,
 "nbformat_minor": 5
}
